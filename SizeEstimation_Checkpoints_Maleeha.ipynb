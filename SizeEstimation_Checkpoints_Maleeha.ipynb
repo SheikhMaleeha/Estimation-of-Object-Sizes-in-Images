{
  "cells": [
    {
      "cell_type": "code",
      "execution_count": null,
      "id": "078fe7e8",
      "metadata": {
        "id": "078fe7e8",
        "outputId": "91c116d7-43ae-43a7-8fcf-f282ef672035"
      },
      "outputs": [
        {
          "name": "stdout",
          "output_type": "stream",
          "text": [
            "Coordinates: x=186, y=239\n",
            "Coordinates: x=290, y=238\n",
            "Coordinates: x=236, y=198\n",
            "Coordinates: x=234, y=276\n",
            "The sizes are:\n",
            "Real Width 13.81313850687657\n",
            "Real Height 14.070196802258542\n"
          ]
        }
      ],
      "source": [
        "import cv2\n",
        "import numpy as np\n",
        "\n",
        "\n",
        "arr=[]\n",
        "# Load the image\n",
        "image = cv2.imread(r\"C:\\Users\\Sheikh_M\\clock4.jpg\")\n",
        "wid=700\n",
        "hei=700\n",
        "# Display the image\n",
        "\n",
        "img=cv2.resize(image,(wid,hei))\n",
        "height, width = image.shape[:2]\n",
        "\n",
        "dx = -12  # Horizontal translation\n",
        "dy = 0  # Vertical translation\n",
        "\n",
        "# Create the translation matrix\n",
        "translation_matrix = np.float32([[1, 0, dx], [0, 1, dy]])\n",
        "\n",
        "\n",
        "angle = 1.4\n",
        "\n",
        "# Calculate the rotation matrix\n",
        "center = (350,350)\n",
        "rotation_matrix = cv2.getRotationMatrix2D(center, angle, 1.0)\n",
        "\n",
        "rotation_matrix[0, 2] += dx\n",
        "rotation_matrix[1, 2] += dy\n",
        "#combined_matrix = np.dot(translation_matrix,rotation_matrix)\n",
        "\n",
        "transformed_image = cv2.warpAffine(img, rotation_matrix, (700,700))\n",
        "#rotated_image=cv2.resize(rotated_image,(wid,hei))\n",
        "\n",
        "cv2.imshow('Image', transformed_image)\n",
        "# Create a callback function to get mouse click coordinates\n",
        "def get_coordinates(event, x, y, flags, param):\n",
        "    if event == cv2.EVENT_LBUTTONDOWN:\n",
        "        print(f'Coordinates: x={x}, y={y}')\n",
        "        arr.append([x,y])\n",
        "\n",
        "# Set the callback function for the window\n",
        "cv2.setMouseCallback('Image', get_coordinates)\n",
        "\n",
        "# Wait for a key press and then close the window\n",
        "cv2.waitKey(0)\n",
        "cv2.destroyAllWindows()\n",
        "\n",
        "pixel_distance_w = np.sqrt((arr[1][0] - arr[0][0])**2 + (arr[1][1] - arr[0][1])**2)\n",
        "pixel_distance_h = np.sqrt((arr[2][0] - arr[3][0])**2 + (arr[2][1] - arr[3][1])**2)\n",
        "\n",
        "\n",
        "#print(pixel_distance)\n",
        "\n",
        "\n",
        "\n",
        "#For Width:\n",
        "# Known width of the reference object in real-world units (e.g., inches)\n",
        "# known_width = 8.5  # Inches\n",
        "# Calculate the scale factor\n",
        "#scale_factor = known_width / pixel_distance\n",
        "#print(scale_factor)\n",
        "\n",
        "scw = 8.5/64\n",
        "real_width = scw*pixel_distance_w\n",
        "\n",
        "\n",
        "\n",
        "#For Height:\n",
        "# Known width of the reference object in real-world units (e.g., inches)\n",
        "#known_height = 11.0  # Inches\n",
        "# Calculate the scale factor\n",
        "#scale_factor = known_height / pixel_distance\n",
        "#print(scale_factor)\n",
        "\n",
        "sch = 11/61\n",
        "real_height = sch*pixel_distance_h\n",
        "\n",
        "\n",
        "#First select the width points and then the height points\n",
        "print(\"The sizes are:\")\n",
        "print(\"Real Width\",real_width)\n",
        "print(\"Real Height\",real_height)"
      ]
    },
    {
      "cell_type": "code",
      "execution_count": null,
      "id": "e85930e2",
      "metadata": {
        "id": "e85930e2"
      },
      "outputs": [],
      "source": []
    },
    {
      "cell_type": "code",
      "execution_count": null,
      "id": "60ced7f6",
      "metadata": {
        "id": "60ced7f6"
      },
      "outputs": [],
      "source": []
    },
    {
      "cell_type": "code",
      "execution_count": null,
      "id": "1e282c73",
      "metadata": {
        "id": "1e282c73"
      },
      "outputs": [],
      "source": []
    }
  ],
  "metadata": {
    "kernelspec": {
      "display_name": "Python 3 (ipykernel)",
      "language": "python",
      "name": "python3"
    },
    "language_info": {
      "codemirror_mode": {
        "name": "ipython",
        "version": 3
      },
      "file_extension": ".py",
      "mimetype": "text/x-python",
      "name": "python",
      "nbconvert_exporter": "python",
      "pygments_lexer": "ipython3",
      "version": "3.10.9"
    },
    "colab": {
      "provenance": []
    }
  },
  "nbformat": 4,
  "nbformat_minor": 5
}
